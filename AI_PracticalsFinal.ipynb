{
  "nbformat": 4,
  "nbformat_minor": 0,
  "metadata": {
    "colab": {
      "provenance": [],
      "include_colab_link": true
    },
    "kernelspec": {
      "name": "python3",
      "display_name": "Python 3"
    },
    "language_info": {
      "name": "python"
    }
  },
  "cells": [
    {
      "cell_type": "markdown",
      "metadata": {
        "id": "view-in-github",
        "colab_type": "text"
      },
      "source": [
        "<a href=\"https://colab.research.google.com/github/Atul14258/ai/blob/main/AI_PracticalsFinal.ipynb\" target=\"_parent\"><img src=\"https://colab.research.google.com/assets/colab-badge.svg\" alt=\"Open In Colab\"/></a>"
      ]
    },
    {
      "cell_type": "markdown",
      "source": [
        "#Family Tree Prolog"
      ],
      "metadata": {
        "id": "eWMCNK_uPi_I"
      }
    },
    {
      "cell_type": "code",
      "execution_count": null,
      "metadata": {
        "id": "HL6VzucJPeO3"
      },
      "outputs": [],
      "source": [
        "male(jack).\n",
        "male(oliver).\n",
        "male(ali).\n",
        "male(james).\n",
        "male(simon).\n",
        "male(harry).\n",
        "female(helen).\n",
        "female(sophie).\n",
        "female(jess).\n",
        "female(lily).\n",
        "parent_of(jack, jess).\n",
        "parent_of(jack, lily).\n",
        "parent_of(helen, jess).\n",
        "parent_of(helen, lily).\n",
        "parent_of(oliver, james).\n",
        "parent_of(sophie, james).\n",
        "parent_of(jess, simon).\n",
        "parent_of(ali, simon).\n",
        "parent_of(lily, harry).\n",
        "parent_of(james, harry).\n",
        "father_of(X, Y) :-\n",
        " male(X),\n",
        " parent_of(X, Y).\n",
        "mother_of(X, Y) :-\n",
        " female(X),\n",
        " parent_of(X, Y).\n",
        "grandfather_of(X, Y) :-\n",
        " male(X),\n",
        " parent_of(X, Z),\n",
        " parent_of(Z, Y).\n",
        "grandmother_of(X, Y) :-\n",
        " female(X),\n",
        " parent_of(X, Z),\n",
        " parent_of(Z, Y).\n",
        "sister_of(X, Y) :-\n",
        " female(X),\n",
        " parent_of(F, Y),\n",
        " parent_of(F, X),\n",
        " X \\= Y.\n",
        "brother_of(X, Y) :-\n",
        " male(X),\n",
        " parent_of(F, Y),\n",
        " parent_of(F, X),\n",
        " X \\= Y.\n",
        "aunt_of(X, Y) :-\n",
        " female(X),\n",
        " parent_of(Z, Y),\n",
        " sister_of(Z, X).\n",
        "uncle_of(X, Y) :-\n",
        " parent_of(Z, Y),\n",
        " brother_of(Z, X).\n",
        "ancestor_of(X, Y) :-\n",
        " parent_of(X, Y).\n",
        "ancestor_of(X, Y) :-\n",
        " parent_of(X, Z),\n",
        " ancestor_of(Z, Y).\n",
        "% Predicate to print the family tree\n",
        "print_family_tree(Person) :-\n",
        " write('Family tree for '), write(Person), write(':'), nl,\n",
        " print_family_tree_helper(Person, 0).\n",
        "print_family_tree_helper(Person, Tabs) :-\n",
        " Tabs >= 0,\n",
        " format('~*c', [Tabs, 32]), % 32 is ASCII code for space\n",
        " write(Person), nl,\n",
        " ( father_of(Person, Child) ;\n",
        " mother_of(Person, Child)\n",
        " ),\n",
        " NextTabs is Tabs + 4,\n",
        " print_family_tree_helper(Child, NextTabs).\n",
        "\n",
        "\n",
        "\n",
        " Prolog query goes here\n",
        "\n",
        " grandmother_of(X,harry)\n",
        "\n",
        "\n",
        " Run this on swish prolog website"
      ]
    },
    {
      "cell_type": "markdown",
      "source": [],
      "metadata": {
        "id": "Sjw2ByuWzFqg"
      }
    },
    {
      "cell_type": "markdown",
      "source": [],
      "metadata": {
        "id": "3KBzYApWzFmW"
      }
    },
    {
      "cell_type": "markdown",
      "source": [],
      "metadata": {
        "id": "C4866fp_zFiQ"
      }
    },
    {
      "cell_type": "markdown",
      "source": [],
      "metadata": {
        "id": "smkjwZ__zFex"
      }
    },
    {
      "cell_type": "markdown",
      "source": [],
      "metadata": {
        "id": "ucTbTSVyzFbB"
      }
    },
    {
      "cell_type": "markdown",
      "source": [],
      "metadata": {
        "id": "tmQ5dFddzFXM"
      }
    },
    {
      "cell_type": "markdown",
      "source": [],
      "metadata": {
        "id": "uUD0B8HuzFTf"
      }
    },
    {
      "cell_type": "markdown",
      "source": [],
      "metadata": {
        "id": "SjqGdQHQzFP0"
      }
    },
    {
      "cell_type": "markdown",
      "source": [],
      "metadata": {
        "id": "yTHUyfBrzFL4"
      }
    },
    {
      "cell_type": "markdown",
      "source": [],
      "metadata": {
        "id": "p4Gi5V63zFIM"
      }
    },
    {
      "cell_type": "markdown",
      "source": [],
      "metadata": {
        "id": "Wv8nGIq7zFEc"
      }
    },
    {
      "cell_type": "markdown",
      "source": [],
      "metadata": {
        "id": "mEsiT3hfzFAp"
      }
    },
    {
      "cell_type": "markdown",
      "source": [],
      "metadata": {
        "id": "Atjd7ZC3zE8q"
      }
    },
    {
      "cell_type": "markdown",
      "source": [],
      "metadata": {
        "id": "R_KdVnz9zE5M"
      }
    },
    {
      "cell_type": "markdown",
      "source": [],
      "metadata": {
        "id": "-JPCg_f4zE0o"
      }
    },
    {
      "cell_type": "markdown",
      "source": [
        "#Best First Search"
      ],
      "metadata": {
        "id": "oWi_3SB7XivG"
      }
    },
    {
      "cell_type": "code",
      "source": [
        "from queue import PriorityQueue\n",
        "v = 14\n",
        "graph = [[] for i in range(v)]\n",
        "\n",
        "# Function For Implementing Best First Search\n",
        "# Gives output path having lowest cost\n",
        "\n",
        "\n",
        "def best_first_search(actual_Src, target, n):\n",
        "    visited = [False] * n\n",
        "    pq = PriorityQueue()\n",
        "    pq.put((0, actual_Src))\n",
        "    visited[actual_Src] = True\n",
        "\n",
        "    while pq.empty() == False:\n",
        "        u = pq.get()[1]\n",
        "        # Displaying the path having lowest cost\n",
        "        print(u, end=\" \")\n",
        "        if u == target:\n",
        "            break\n",
        "\n",
        "        for v, c in graph[u]:\n",
        "            if visited[v] == False:\n",
        "                visited[v] = True\n",
        "                pq.put((c, v))\n",
        "    print()\n",
        "\n",
        "# Function for adding edges to graph\n",
        "\n",
        "\n",
        "def addedge(x, y, cost):\n",
        "    graph[x].append((y, cost))\n",
        "    graph[y].append((x, cost))\n",
        "\n",
        "\n",
        "# The nodes shown in above example(by alphabets) are\n",
        "# implemented using integers addedge(x,y,cost);\n",
        "addedge(0, 1, 3)\n",
        "addedge(0, 2, 6)\n",
        "addedge(0, 3, 5)\n",
        "addedge(1, 4, 9)\n",
        "addedge(1, 5, 8)\n",
        "addedge(2, 6, 12)\n",
        "addedge(2, 7, 14)\n",
        "addedge(3, 8, 7)\n",
        "addedge(8, 9, 5)\n",
        "addedge(8, 10, 6)\n",
        "addedge(9, 11, 1)\n",
        "addedge(9, 12, 10)\n",
        "addedge(9, 13, 2)\n",
        "\n",
        "source = 0\n",
        "target = 9\n",
        "best_first_search(source, target, v)"
      ],
      "metadata": {
        "colab": {
          "base_uri": "https://localhost:8080/"
        },
        "id": "MC4b_dbYXM67",
        "outputId": "ddf73f62-7206-47dd-a478-546ac3c550be"
      },
      "execution_count": null,
      "outputs": [
        {
          "output_type": "stream",
          "name": "stdout",
          "text": [
            "0 1 3 2 8 9 \n"
          ]
        }
      ]
    },
    {
      "cell_type": "markdown",
      "source": [],
      "metadata": {
        "id": "RgOlqyTozHuI"
      }
    },
    {
      "cell_type": "markdown",
      "source": [],
      "metadata": {
        "id": "FyQl284hzHqd"
      }
    },
    {
      "cell_type": "markdown",
      "source": [],
      "metadata": {
        "id": "pxcp4nM5zHmq"
      }
    },
    {
      "cell_type": "markdown",
      "source": [],
      "metadata": {
        "id": "GNoiwMUxzHio"
      }
    },
    {
      "cell_type": "markdown",
      "source": [],
      "metadata": {
        "id": "-WEjYMOdzHe6"
      }
    },
    {
      "cell_type": "markdown",
      "source": [],
      "metadata": {
        "id": "VAzIIfZnzHa0"
      }
    },
    {
      "cell_type": "markdown",
      "source": [],
      "metadata": {
        "id": "zJEfyV3qzHW8"
      }
    },
    {
      "cell_type": "markdown",
      "source": [],
      "metadata": {
        "id": "bpp6KGe5zHR_"
      }
    },
    {
      "cell_type": "markdown",
      "source": [],
      "metadata": {
        "id": "VdNGkQD5zJK8"
      }
    },
    {
      "cell_type": "markdown",
      "source": [],
      "metadata": {
        "id": "TQlYDaOxzJCU"
      }
    },
    {
      "cell_type": "markdown",
      "source": [],
      "metadata": {
        "id": "7G2VDMJCzI96"
      }
    },
    {
      "cell_type": "markdown",
      "source": [],
      "metadata": {
        "id": "QpO71y3mzHOT"
      }
    },
    {
      "cell_type": "markdown",
      "source": [],
      "metadata": {
        "id": "HkKBfCZAzHKT"
      }
    },
    {
      "cell_type": "markdown",
      "source": [],
      "metadata": {
        "id": "3d8yUU79zHGz"
      }
    },
    {
      "cell_type": "markdown",
      "source": [],
      "metadata": {
        "id": "34lP1sWlzHCA"
      }
    },
    {
      "cell_type": "markdown",
      "source": [
        "#A* search algorithm"
      ],
      "metadata": {
        "id": "LBHqnZ8zYGNQ"
      }
    },
    {
      "cell_type": "code",
      "source": [
        "def a_star_algo(start_node, stop_node):\n",
        "    open_set = {start_node}\n",
        "    closed_set = set()\n",
        "    g = {start_node: 0}\n",
        "    parents = {start_node: start_node}\n",
        "\n",
        "    def get_neighbors(v):\n",
        "        if v in graph_nodes:\n",
        "            return graph_nodes[v]\n",
        "        else:\n",
        "            return None\n",
        "\n",
        "    def heuristic(n):\n",
        "        h_dist = {\n",
        "            'S': 5,\n",
        "            'A': 3,\n",
        "            'B': 4,\n",
        "            'C': 2,\n",
        "            'D': 6,\n",
        "            'G': 0\n",
        "        }\n",
        "        return h_dist[n]\n",
        "\n",
        "    while open_set:\n",
        "        n = None\n",
        "        for v in open_set:\n",
        "            if n is None or g[v] + heuristic(v) < g[n] + heuristic(n):\n",
        "                n = v\n",
        "        if n == stop_node or n not in graph_nodes:\n",
        "            break\n",
        "\n",
        "        open_set.remove(n)\n",
        "        closed_set.add(n)\n",
        "\n",
        "        for m, weight in get_neighbors(n):\n",
        "            if m not in open_set and m not in closed_set:\n",
        "                open_set.add(m)\n",
        "                parents[m] = n\n",
        "                g[m] = g[n] + weight\n",
        "            elif g[m] > g[n] + weight:\n",
        "                g[m] = g[n] + weight\n",
        "                parents[m] = n\n",
        "                if m in closed_set:\n",
        "                    closed_set.remove(m)\n",
        "                    open_set.add(m)\n",
        "\n",
        "    if stop_node not in parents or stop_node not in graph_nodes:\n",
        "        print(\"Path does not exist!\")\n",
        "        return None\n",
        "\n",
        "    path = [stop_node]\n",
        "    fitness_numbers = [g[stop_node] + heuristic(stop_node)]\n",
        "    while parents[path[-1]] != path[-1]:\n",
        "        path.append(parents[path[-1]])\n",
        "        fitness_numbers.append(g[path[-1]] + heuristic(path[-1]))\n",
        "    path.reverse()\n",
        "    fitness_numbers.reverse()\n",
        "\n",
        "    print(\"Start node:\", start_node)\n",
        "    print(\"Goal node:\", stop_node)\n",
        "    print(\"Weight of the path:\", g[stop_node])\n",
        "    print(\"Path found:\")\n",
        "    for i in range(len(path)):\n",
        "        print(\"Node:\", path[i], \", Fitness Number:\", fitness_numbers[i])\n",
        "    return path\n",
        "\n",
        "# Define your graph here\n",
        "graph_nodes = {\n",
        "    'S': [('A', 1), ('G', 10)],\n",
        "    'A': [('B', 2), ('C', 1)],\n",
        "    'B': [('D', 15)],\n",
        "    'C': [('D', 3), ('G', 4)],\n",
        "    'D': [('G', 2)],\n",
        "    'G': []\n",
        "}\n",
        "\n",
        "start_node = input(\"Enter the start node: \")\n",
        "stop_node = input(\"Enter the goal node: \")\n",
        "\n",
        "path = a_star_algo(start_node, stop_node)\n",
        "if path:\n",
        "    print(\"Path:\", path)\n",
        "\n",
        "# Start Node - S, Goal Node - G"
      ],
      "metadata": {
        "colab": {
          "base_uri": "https://localhost:8080/"
        },
        "id": "kDz47ZzhXu3m",
        "outputId": "e1d1308b-710e-4bde-bf96-106a9238add1"
      },
      "execution_count": null,
      "outputs": [
        {
          "output_type": "stream",
          "name": "stdout",
          "text": [
            "Enter the start node: S\n",
            "Enter the goal node: G\n",
            "Start node: S\n",
            "Goal node: G\n",
            "Weight of the path: 6\n",
            "Path found:\n",
            "Node: S , Fitness Number: 5\n",
            "Node: A , Fitness Number: 4\n",
            "Node: C , Fitness Number: 4\n",
            "Node: G , Fitness Number: 6\n",
            "Path: ['S', 'A', 'C', 'G']\n"
          ]
        }
      ]
    },
    {
      "cell_type": "markdown",
      "source": [],
      "metadata": {
        "id": "uXvk7F2KzL7O"
      }
    },
    {
      "cell_type": "markdown",
      "source": [],
      "metadata": {
        "id": "fKIGLqJkzLzp"
      }
    },
    {
      "cell_type": "markdown",
      "source": [],
      "metadata": {
        "id": "iwFnTVEwzLt0"
      }
    },
    {
      "cell_type": "markdown",
      "source": [],
      "metadata": {
        "id": "drMsl1WZzLm5"
      }
    },
    {
      "cell_type": "markdown",
      "source": [],
      "metadata": {
        "id": "IxFhUUG5zLhP"
      }
    },
    {
      "cell_type": "markdown",
      "source": [],
      "metadata": {
        "id": "TL4mDHigzLad"
      }
    },
    {
      "cell_type": "markdown",
      "source": [],
      "metadata": {
        "id": "LAOqwEDPzLUg"
      }
    },
    {
      "cell_type": "markdown",
      "source": [],
      "metadata": {
        "id": "rE8UHIY3zLOS"
      }
    },
    {
      "cell_type": "markdown",
      "source": [],
      "metadata": {
        "id": "2B_66jPszLIt"
      }
    },
    {
      "cell_type": "markdown",
      "source": [],
      "metadata": {
        "id": "Z83t0dC4zLBZ"
      }
    },
    {
      "cell_type": "markdown",
      "source": [],
      "metadata": {
        "id": "Jy0J8jCVzK8C"
      }
    },
    {
      "cell_type": "markdown",
      "source": [],
      "metadata": {
        "id": "FYAgGAfvzK1Q"
      }
    },
    {
      "cell_type": "markdown",
      "source": [],
      "metadata": {
        "id": "-AUxbSt7zKuo"
      }
    },
    {
      "cell_type": "markdown",
      "source": [],
      "metadata": {
        "id": "pw8QdAS7zKnP"
      }
    },
    {
      "cell_type": "markdown",
      "source": [],
      "metadata": {
        "id": "0-EB0LS4zKgL"
      }
    },
    {
      "cell_type": "markdown",
      "source": [],
      "metadata": {
        "id": "TdO2Hcz2zKY9"
      }
    },
    {
      "cell_type": "markdown",
      "source": [],
      "metadata": {
        "id": "e6jjLezOzKRj"
      }
    },
    {
      "cell_type": "markdown",
      "source": [],
      "metadata": {
        "id": "Hi6gUB_xzKJJ"
      }
    },
    {
      "cell_type": "markdown",
      "source": [
        "#8 puzzle problem"
      ],
      "metadata": {
        "id": "-f8VY2UtYXpd"
      }
    },
    {
      "cell_type": "code",
      "source": [
        "# Python3 program to print the path from root\n",
        "# node to destination node for N*N-1 puzzle\n",
        "# algorithm using Branch and Bound\n",
        "# The solution assumes that instance of\n",
        "# puzzle is solvable\n",
        "\n",
        "import heapq\n",
        "import time\n",
        "\n",
        "class PuzzleNode:\n",
        "    def __init__(self, state, parent=None, move=None, g=0):\n",
        "        self.state = state\n",
        "        self.parent = parent\n",
        "        self.move = move\n",
        "        self.g = g\n",
        "\n",
        "    def __lt__(self, other):\n",
        "        return (self.g + self.h()) < (other.g + other.h())\n",
        "\n",
        "    def __eq__(self, other):\n",
        "        return self.state == other.state\n",
        "\n",
        "    def __hash__(self):\n",
        "        return hash(tuple(self.state))\n",
        "\n",
        "    def h(self):\n",
        "        # Heuristic: Number of misplaced tiles (excluding the empty tile)\n",
        "        return sum(1 if self.state[i] != goal_state[i] and self.state[i] != 0 else 0 for i in range(9))\n",
        "\n",
        "    def expand(self):\n",
        "        successors = []\n",
        "        zero_index = self.state.index(0)\n",
        "        moves = [(-1, 0), (1, 0), (0, -1), (0, 1)]  # Up, Down, Left, Right\n",
        "        directions = ['Up', 'Down', 'Left', 'Right']\n",
        "\n",
        "        for i, move in enumerate(moves):\n",
        "            new_row = zero_index // 3 + move[0]\n",
        "            new_col = zero_index % 3 + move[1]\n",
        "            if 0 <= new_row < 3 and 0 <= new_col < 3:\n",
        "                new_index = new_row * 3 + new_col\n",
        "                new_state = self.state[:]\n",
        "                new_state[zero_index], new_state[new_index] = new_state[new_index], new_state[zero_index]\n",
        "                successors.append(PuzzleNode(new_state, self, directions[i], self.g + 1))\n",
        "\n",
        "        return successors\n",
        "\n",
        "    def get_path(self):\n",
        "        path = []\n",
        "        current = self\n",
        "        while current:\n",
        "            path.append((current.state, current.move, current.h()))\n",
        "            current = current.parent\n",
        "        path.reverse()\n",
        "        return path\n",
        "\n",
        "def astar(start_state):\n",
        "    open_list = []\n",
        "    closed_set = set()\n",
        "    heapq.heappush(open_list, start_state)\n",
        "    start_time = time.time()\n",
        "\n",
        "    while open_list:\n",
        "        current_node = heapq.heappop(open_list)\n",
        "        if current_node.state == goal_state:\n",
        "            end_time = time.time()\n",
        "            time_taken = end_time - start_time\n",
        "            return current_node.get_path(), time_taken\n",
        "\n",
        "        closed_set.add(tuple(current_node.state))\n",
        "        successors = current_node.expand()\n",
        "\n",
        "        for successor in successors:\n",
        "            if tuple(successor.state) not in closed_set:\n",
        "                heapq.heappush(open_list, successor)\n",
        "\n",
        "if __name__ == \"__main__\":\n",
        "    print(\"Enter the initial state (use 0 for the blank space):\")\n",
        "    initial_state = [int(x) for x in input().split()]\n",
        "\n",
        "    print(\"Enter the goal state:\")\n",
        "    goal_state = [int(x) for x in input().split()]\n",
        "\n",
        "    initial_node = PuzzleNode(initial_state)\n",
        "    solution, time_taken = astar(initial_node)\n",
        "\n",
        "    if solution:\n",
        "        print(\"Solution found:\")\n",
        "        num_steps = len(solution) - 1\n",
        "        for step in solution:\n",
        "            print(step[0][:3])\n",
        "            print(step[0][3:6])\n",
        "            print(step[0][6:])\n",
        "            print(\"Heuristic:\", step[2])\n",
        "            print(\"Move:\", step[1])\n",
        "            print()\n",
        "        print(\"Goal state:\")\n",
        "        print(goal_state[:3])\n",
        "        print(goal_state[3:6])\n",
        "        print(goal_state[6:])\n",
        "        print(\"Goal state found!\")\n",
        "        print(\"Number of steps required to reach the goal state:\", num_steps)\n",
        "        print(\"Time taken to solve the problem:\", round(time_taken, 6), \"seconds\")\n",
        "    else:\n",
        "        print(\"No solution found.\")\n",
        "\n",
        "'''\n",
        "Enter the initial state (use 0 for the blank space):\n",
        "2 8 3 1 6 4 7 0 5\n",
        "Enter the goal state:\n",
        "1 2 3 8 0 4 7 6 5\n",
        "'''"
      ],
      "metadata": {
        "colab": {
          "base_uri": "https://localhost:8080/"
        },
        "id": "xz4PQYfcYSrZ",
        "outputId": "b3881fb9-3684-4e8f-9151-bf1631003b06"
      },
      "execution_count": null,
      "outputs": [
        {
          "output_type": "stream",
          "name": "stdout",
          "text": [
            "Enter the initial state (use 0 for the blank space):\n",
            "2 8 3 1 6 4 7 0 5\n",
            "Enter the goal state:\n",
            "1 2 3 8 0 4 7 6 5\n",
            "Solution found:\n",
            "[2, 8, 3]\n",
            "[1, 6, 4]\n",
            "[7, 0, 5]\n",
            "Heuristic: 4\n",
            "Move: None\n",
            "\n",
            "[2, 8, 3]\n",
            "[1, 0, 4]\n",
            "[7, 6, 5]\n",
            "Heuristic: 3\n",
            "Move: Up\n",
            "\n",
            "[2, 0, 3]\n",
            "[1, 8, 4]\n",
            "[7, 6, 5]\n",
            "Heuristic: 3\n",
            "Move: Up\n",
            "\n",
            "[0, 2, 3]\n",
            "[1, 8, 4]\n",
            "[7, 6, 5]\n",
            "Heuristic: 2\n",
            "Move: Left\n",
            "\n",
            "[1, 2, 3]\n",
            "[0, 8, 4]\n",
            "[7, 6, 5]\n",
            "Heuristic: 1\n",
            "Move: Down\n",
            "\n",
            "[1, 2, 3]\n",
            "[8, 0, 4]\n",
            "[7, 6, 5]\n",
            "Heuristic: 0\n",
            "Move: Right\n",
            "\n",
            "Goal state:\n",
            "[1, 2, 3]\n",
            "[8, 0, 4]\n",
            "[7, 6, 5]\n",
            "Goal state found!\n",
            "Number of steps required to reach the goal state: 5\n",
            "Time taken to solve the problem: 0.000317 seconds\n"
          ]
        }
      ]
    },
    {
      "cell_type": "markdown",
      "source": [],
      "metadata": {
        "id": "LMIu2CT-zPTo"
      }
    },
    {
      "cell_type": "markdown",
      "source": [],
      "metadata": {
        "id": "LL9WmbXozPO6"
      }
    },
    {
      "cell_type": "markdown",
      "source": [],
      "metadata": {
        "id": "HZ7uuDnOzPKC"
      }
    },
    {
      "cell_type": "markdown",
      "source": [],
      "metadata": {
        "id": "HdWT851yzPFl"
      }
    },
    {
      "cell_type": "markdown",
      "source": [],
      "metadata": {
        "id": "NrsGGomdzPA4"
      }
    },
    {
      "cell_type": "markdown",
      "source": [],
      "metadata": {
        "id": "YM7wvROnzO7i"
      }
    },
    {
      "cell_type": "markdown",
      "source": [],
      "metadata": {
        "id": "gTD3_aFyzO22"
      }
    },
    {
      "cell_type": "markdown",
      "source": [],
      "metadata": {
        "id": "HbuQJob1zOyD"
      }
    },
    {
      "cell_type": "markdown",
      "source": [],
      "metadata": {
        "id": "pZG60_ZizOsI"
      }
    },
    {
      "cell_type": "markdown",
      "source": [],
      "metadata": {
        "id": "TMrfsetAzOnI"
      }
    },
    {
      "cell_type": "markdown",
      "source": [],
      "metadata": {
        "id": "OJM9KUOczOhI"
      }
    },
    {
      "cell_type": "markdown",
      "source": [],
      "metadata": {
        "id": "CwAIHc57zOcf"
      }
    },
    {
      "cell_type": "markdown",
      "source": [],
      "metadata": {
        "id": "NHTTy_K8zOYI"
      }
    },
    {
      "cell_type": "markdown",
      "source": [],
      "metadata": {
        "id": "ocyl-RrNzOT4"
      }
    },
    {
      "cell_type": "markdown",
      "source": [],
      "metadata": {
        "id": "tJTk9XdGzOOo"
      }
    },
    {
      "cell_type": "markdown",
      "source": [],
      "metadata": {
        "id": "vbphxRKczOKL"
      }
    },
    {
      "cell_type": "markdown",
      "source": [],
      "metadata": {
        "id": "JxS7usubzOFO"
      }
    },
    {
      "cell_type": "markdown",
      "source": [],
      "metadata": {
        "id": "ibjpavlxzOAh"
      }
    },
    {
      "cell_type": "markdown",
      "source": [],
      "metadata": {
        "id": "5u44DpY6zN6B"
      }
    },
    {
      "cell_type": "markdown",
      "source": [],
      "metadata": {
        "id": "8FSelt0LzN1J"
      }
    },
    {
      "cell_type": "markdown",
      "source": [],
      "metadata": {
        "id": "lJyTkPEfzNtg"
      }
    },
    {
      "cell_type": "markdown",
      "source": [],
      "metadata": {
        "id": "vkk9Pw_pzNok"
      }
    },
    {
      "cell_type": "markdown",
      "source": [],
      "metadata": {
        "id": "Ea1k8pbOzNhc"
      }
    },
    {
      "cell_type": "markdown",
      "source": [
        "#Tower of Hanoi"
      ],
      "metadata": {
        "id": "BzOuqqAqZAWI"
      }
    },
    {
      "cell_type": "markdown",
      "source": [
        "#Theory for tower of Hanoi\n",
        "\n",
        "Tower of Hanoi is a mathematical puzzle where we have three rods (A, B, and C) and N disks. Initially, all the disks are stacked in decreasing value of diameter i.e., the smallest disk is placed on the top and they are on rod A. The objective of the puzzle is to move the entire stack to another rod (here considered C), obeying the following simple rules:\n",
        "\n",
        "Only one disk can be moved at a time.\n",
        "Each move consists of taking the upper disk from one of the stacks and placing it on top of another stack i.e. a disk can only be moved if it is the uppermost disk on a stack.\n",
        "No disk may be placed on top of a smaller disk."
      ],
      "metadata": {
        "id": "ai1CycUvZNxk"
      }
    },
    {
      "cell_type": "code",
      "source": [
        "# Recursive Python function to solve tower of hanoi\n",
        "\n",
        "\n",
        "def TowerOfHanoi(n, from_rod, to_rod, aux_rod):\n",
        "    if n == 0:\n",
        "        return\n",
        "    TowerOfHanoi(n-1, from_rod, aux_rod, to_rod)\n",
        "    print(\"Move disk\", n, \"from rod\", from_rod, \"to rod\", to_rod)\n",
        "    TowerOfHanoi(n-1, aux_rod, to_rod, from_rod)\n",
        "\n",
        "\n",
        "# Driver code\n",
        "N = 3\n",
        "\n",
        "# A, C, B are the name of rods\n",
        "TowerOfHanoi(N, 'A', 'C', 'B')\n"
      ],
      "metadata": {
        "colab": {
          "base_uri": "https://localhost:8080/"
        },
        "id": "NAyV7N-KYtZu",
        "outputId": "1663ff4b-880d-4457-832e-634630f99222"
      },
      "execution_count": null,
      "outputs": [
        {
          "output_type": "stream",
          "name": "stdout",
          "text": [
            "Move disk 1 from rod A to rod C\n",
            "Move disk 2 from rod A to rod B\n",
            "Move disk 1 from rod C to rod B\n",
            "Move disk 3 from rod A to rod C\n",
            "Move disk 1 from rod B to rod A\n",
            "Move disk 2 from rod B to rod C\n",
            "Move disk 1 from rod A to rod C\n"
          ]
        }
      ]
    },
    {
      "cell_type": "markdown",
      "source": [],
      "metadata": {
        "id": "aJHOpIyizRbp"
      }
    },
    {
      "cell_type": "markdown",
      "source": [],
      "metadata": {
        "id": "C400sMgozRVp"
      }
    },
    {
      "cell_type": "markdown",
      "source": [],
      "metadata": {
        "id": "5MzxKPMgzRQZ"
      }
    },
    {
      "cell_type": "markdown",
      "source": [],
      "metadata": {
        "id": "cwvwHB6vzRLa"
      }
    },
    {
      "cell_type": "markdown",
      "source": [],
      "metadata": {
        "id": "4_-fNo1_zREc"
      }
    },
    {
      "cell_type": "markdown",
      "source": [],
      "metadata": {
        "id": "B3LY43r-zQ_2"
      }
    },
    {
      "cell_type": "markdown",
      "source": [],
      "metadata": {
        "id": "3Ff-D9q6zQ8U"
      }
    },
    {
      "cell_type": "markdown",
      "source": [],
      "metadata": {
        "id": "RLVTTFlLzQ4o"
      }
    },
    {
      "cell_type": "markdown",
      "source": [],
      "metadata": {
        "id": "7dDOY_jczQzO"
      }
    },
    {
      "cell_type": "markdown",
      "source": [],
      "metadata": {
        "id": "GKA8qfvYzQu0"
      }
    },
    {
      "cell_type": "markdown",
      "source": [],
      "metadata": {
        "id": "7hf90t7EzQqm"
      }
    },
    {
      "cell_type": "markdown",
      "source": [],
      "metadata": {
        "id": "DF3YcMzgzQkS"
      }
    },
    {
      "cell_type": "markdown",
      "source": [],
      "metadata": {
        "id": "1TC9qWtszQgu"
      }
    },
    {
      "cell_type": "markdown",
      "source": [],
      "metadata": {
        "id": "AdcdSzFhzQdU"
      }
    },
    {
      "cell_type": "markdown",
      "source": [],
      "metadata": {
        "id": "0If1Vm6MzQZp"
      }
    },
    {
      "cell_type": "markdown",
      "source": [
        "#ADL script for spare tyre problem\n",
        "Consider the problem of changing a flat tire. More precisely, the goal is to have a good-spare tire properly mounted onto the car's axle where the initial state has a flat tire on the axle and a good spare tire in the trunk) To keep it simple, our version of the problem is a very abstract one, with no sticky lug nuts or other complications. There are just four actions: removing the spare from the trunk, removing the flat tire from the axle, putting the spare on the axle, and leaving the car unattended overnight. We assume that the car is in a particularly bad neighbourhood, so that the effect of leaving it overnight is that the tires disappear.\n",
        "The ADL description of the problem is shown in Figure 6.3. Notice that it is purely prepositional. It goes beyond strips in that it uses a negated precondition, At(Flat, Axle), for the PutOn(Spare, Axle) action. This could be avoided by using Clear(Axle) instead, as we will see in the next example."
      ],
      "metadata": {
        "id": "OYSLvDsoZdD2"
      }
    },
    {
      "cell_type": "markdown",
      "source": [
        "Consider problem of changing flat tire. There are just 4 actions: removing spare from trunk, removing flat tire from axle, putting spare tire on axle, and leaving car unattended overnight.\n",
        "ADL description is as shown. It uses negated precondition,negation. This could be avoided by using Clear (Axle) instead. As we see in next example.\n",
        "Solution using Strips:\n",
        "\n",
        "* Init(At(Flat,Axle)̂At(Spare,Trunk))\n",
        "* Goal(At(Spare,Axle)) Action(remove(Spare,Trunk),\n",
        "* PRECOND ; At(Spare,Trunk)\n",
        "* EFFECT :̚At(Spare,trunk)˄A t(Spare, Ground)\n",
        "* Action(Remove(Flat,Axle), • PRECOND:At(Flat,Axle)\n",
        "* EFFECT :̚At(Flat,,Axle)˄A t(Flat, Ground)\n",
        "* Action(PutOn(Spare,Axle),\n",
        "* PRECOND ; At(Spare,Ground)˄̚At(Flat,Axle)\n",
        "* EFFECT:̚At(Spare,Ground) ˄̚At(Spare,Axle))\n",
        "* Action(LeaveOvernight)\n",
        "* PRECOND\n",
        "* EFFECT :̚At(Spare,Ground)˄A t(Spare, Axle)̚˄At(Spare,trunk)˄ ̚At(Flat,Ground)˄̚At(Flat,Axle))"
      ],
      "metadata": {
        "id": "_zijn7AK9cB0"
      }
    },
    {
      "cell_type": "markdown",
      "source": [],
      "metadata": {
        "id": "4mG6LBPczT78"
      }
    },
    {
      "cell_type": "markdown",
      "source": [],
      "metadata": {
        "id": "HWk7IXUCzTvt"
      }
    },
    {
      "cell_type": "markdown",
      "source": [],
      "metadata": {
        "id": "W7y8AIYlzTpo"
      }
    },
    {
      "cell_type": "markdown",
      "source": [],
      "metadata": {
        "id": "us4D_YlKzTl2"
      }
    },
    {
      "cell_type": "markdown",
      "source": [],
      "metadata": {
        "id": "1SZpWfvKzTf0"
      }
    },
    {
      "cell_type": "markdown",
      "source": [],
      "metadata": {
        "id": "Sd4CxY4ozTZ7"
      }
    },
    {
      "cell_type": "markdown",
      "source": [],
      "metadata": {
        "id": "1SsNNBc0zTTF"
      }
    },
    {
      "cell_type": "markdown",
      "source": [],
      "metadata": {
        "id": "VjlpA3fqzUxY"
      }
    },
    {
      "cell_type": "markdown",
      "source": [],
      "metadata": {
        "id": "JewKN2lUzTOQ"
      }
    },
    {
      "cell_type": "markdown",
      "source": [],
      "metadata": {
        "id": "Q5LeOdw2zTIC"
      }
    },
    {
      "cell_type": "markdown",
      "source": [],
      "metadata": {
        "id": "Q40Mxod5zTDT"
      }
    },
    {
      "cell_type": "markdown",
      "source": [],
      "metadata": {
        "id": "R7N_YQIIzS_R"
      }
    },
    {
      "cell_type": "markdown",
      "source": [],
      "metadata": {
        "id": "ryZihxENzS7l"
      }
    },
    {
      "cell_type": "markdown",
      "source": [],
      "metadata": {
        "id": "LF4mE-GOzS3Q"
      }
    },
    {
      "cell_type": "markdown",
      "source": [],
      "metadata": {
        "id": "-VjvET1vzSzR"
      }
    },
    {
      "cell_type": "markdown",
      "source": [],
      "metadata": {
        "id": "qn11_AFlzSvJ"
      }
    },
    {
      "cell_type": "markdown",
      "source": [],
      "metadata": {
        "id": "9kYz6Sb6zSqr"
      }
    },
    {
      "cell_type": "markdown",
      "source": [
        "#ADL script for cargo plane airport problem"
      ],
      "metadata": {
        "id": "DXhPLNmxav-_"
      }
    },
    {
      "cell_type": "markdown",
      "source": [
        "The problem can be defined with three actions: Load, Unload and Fly. The actions affect two predicates: In(c,p) means that cargo c is inside plane p, and At(x, a) means that object x (either plane or cargo) is at airport a. Note that cargo is not at anywhere when it is In a plane, so At really means \"available for use at a given location.\" It takes some experience with action definitions to handle such details consistently."
      ],
      "metadata": {
        "id": "XqMhZeXSbGJW"
      }
    },
    {
      "cell_type": "markdown",
      "source": [
        "![image.png](data:image/png;base64,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)"
      ],
      "metadata": {
        "id": "Z_CrFB-3gCc6"
      }
    }
  ]
}